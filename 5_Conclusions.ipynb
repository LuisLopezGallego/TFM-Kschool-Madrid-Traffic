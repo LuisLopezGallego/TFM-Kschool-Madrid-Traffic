{
 "cells": [
  {
   "cell_type": "markdown",
   "metadata": {},
   "source": [
    "# Notebook 5: Visualizacion and Conclusions"
   ]
  },
  {
   "cell_type": "markdown",
   "metadata": {},
   "source": [
    "### The goal of this notebook is to provide a final visualization of the results obtained and provide some general conclusions"
   ]
  },
  {
   "cell_type": "markdown",
   "metadata": {},
   "source": [
    "### Genova West-East\n",
    "<img src='Genova vs Madrid Central.png'>\n",
    "<img src='Genova Forecast.png'>"
   ]
  },
  {
   "cell_type": "markdown",
   "metadata": {},
   "source": [
    "### Princesa North-South\n",
    "<img src='Princesa vs Madrid Central.png'>\n",
    "<img src='Princesa Forecast.png'>"
   ]
  },
  {
   "cell_type": "markdown",
   "metadata": {},
   "source": [
    "### Gran Via South-North\n",
    "<img src='Gran Via vs Madrid Central.png'>\n",
    "<img src='Gran Via Forecast.png'>"
   ]
  },
  {
   "cell_type": "markdown",
   "metadata": {},
   "source": [
    "### Paseo del Prado North-South\n",
    "<img src='Paseo del Prado vs Madrid Central.png'>\n",
    "<img src='Paseo del Prado Forecast.png'>"
   ]
  },
  {
   "cell_type": "markdown",
   "metadata": {},
   "source": [
    "### Ronda de Valencia West-East\n",
    "<img src='Ronda de Valencia vs Madrid Central.png'>\n",
    "<img src='Ronda de Valencia Forecast.png'>"
   ]
  },
  {
   "cell_type": "markdown",
   "metadata": {},
   "source": [
    "### Alberto Aguilera West-East\n",
    "<img src='Alberto Aguilera vs Madrid Central.png'>\n",
    "<img src='Alberto Aguilera Forecast.png'>"
   ]
  },
  {
   "cell_type": "markdown",
   "metadata": {},
   "source": [
    "### Gran Via de San Francisco West-East\n",
    "<img src='Gran Via San Francisco vs Madrid Central.png'>\n",
    "<img src='Gran Via San Francisco Forecast.png'>"
   ]
  },
  {
   "cell_type": "markdown",
   "metadata": {},
   "source": [
    "### Conclusions"
   ]
  },
  {
   "cell_type": "markdown",
   "metadata": {},
   "source": [
    "#### - After the analysis performed we can see that in general, the intensity of the traffic in the points surrounding Madrid Central and in Gran Via has decreased in comparison to the usual trend and the historical figures of same months on past years.\n",
    "\n",
    "#### - Despite the general reduction of the traffic, it is still soon to extract a solid conclusion since there are 2 arguments that we need to take into account:\n",
    "   - It's been only 4 months since the implementation of Madrid-Central\n",
    "   - The first 3 months the fines were not active. It means that people were not so carefull to get inside Madrid Central\n",
    "\n",
    "#### - At first sight it seems like a good measure since it reduces the traffic and allows citizens to enjoy more the area out of vehicles. Of course it creates controversial for people used to access to downtown by his own vehicle\n",
    "\n",
    "#### - As further steps I would like to develop:\n",
    "   - Forecasting traffic congestion on certain points by Classification or Clustering methods\n",
    "   - Analysis of the polution status in Madrid in relation with Madrid Central as a “low-emission zone” \n",
    "   - Analysis of the public transport use evolution\n",
    "   - Analysis on the sales impact on the stores located in the area\n",
    "   - Analysis of the public parking rates\n",
    "   - Evolution of the renting garages for parking in terms of units and price evolution"
   ]
  }
 ],
 "metadata": {
  "kernelspec": {
   "display_name": "Python 3",
   "language": "python",
   "name": "python3"
  },
  "language_info": {
   "codemirror_mode": {
    "name": "ipython",
    "version": 3
   },
   "file_extension": ".py",
   "mimetype": "text/x-python",
   "name": "python",
   "nbconvert_exporter": "python",
   "pygments_lexer": "ipython3",
   "version": "3.7.1"
  }
 },
 "nbformat": 4,
 "nbformat_minor": 2
}
