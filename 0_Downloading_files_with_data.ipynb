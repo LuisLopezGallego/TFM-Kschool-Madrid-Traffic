{
 "cells": [
  {
   "cell_type": "markdown",
   "metadata": {},
   "source": [
    "# Notebook 0: Data acquisition"
   ]
  },
  {
   "cell_type": "markdown",
   "metadata": {},
   "source": [
    "### The goal of this notebook is to download the data for the TFM.\n",
    "#### Before that, here you are sources where the data used for my TFM has been downloaded:"
   ]
  },
  {
   "cell_type": "markdown",
   "metadata": {},
   "source": [
    "#### Location of the traffic devices\n",
    "\n",
    "- https://datos.madrid.es/portal/site/egob/menuitem.c05c1f754a33a9fbe4b2e4b284f1a5a0/?vgnextoid=ee941ce6ba6d3410VgnVCM1000000b205a0aRCRD&vgnextchannel=374512b9ace9f310VgnVCM100000171f5a0aRCRD\n",
    "\n",
    "#### Historical data traffic since 2013\n",
    "\n",
    "- https://datos.madrid.es/portal/site/egob/menuitem.c05c1f754a33a9fbe4b2e4b284f1a5a0/?vgnextoid=33cb30c367e78410VgnVCM1000000b205a0aRCRD&vgnextchannel=374512b9ace9f310VgnVCM100000171f5a0aRCRD&vgnextfmt=default\n",
    "\n",
    "#### Live traffic\n",
    "\n",
    "- https://datos.madrid.es/portal/site/egob/menuitem.c05c1f754a33a9fbe4b2e4b284f1a5a0/?vgnextoid=02f2c23866b93410VgnVCM1000000b205a0aRCRD&vgnextchannel=374512b9ace9f310VgnVCM100000171f5a0aRCRD\n",
    "\n",
    "#### Calendar\n",
    "\n",
    "- https://datos.madrid.es/portal/site/egob/menuitem.c05c1f754a33a9fbe4b2e4b284f1a5a0/?vgnextoid=9f710c96da3f9510VgnVCM2000001f4a900aRCRD&vgnextchannel=374512b9ace9f310VgnVCM100000171f5a0aRCRD&vgnextfmt=default&reloadCaptcha=true"
   ]
  },
  {
   "cell_type": "markdown",
   "metadata": {},
   "source": [
    "### Due to the size of the files, I have saved them on a .zip n my googledrive account.\n",
    "### Following the steps indicated in the process detailed below you may be able to download the file"
   ]
  },
  {
   "cell_type": "markdown",
   "metadata": {},
   "source": [
    "### Step 1: install and import the library"
   ]
  },
  {
   "cell_type": "code",
   "execution_count": 5,
   "metadata": {},
   "outputs": [
    {
     "name": "stdout",
     "output_type": "stream",
     "text": [
      "Requirement already satisfied: googledrivedownloader in c:\\users\\llopezg\\appdata\\local\\continuum\\anaconda3\\lib\\site-packages (0.3)\n",
      "Requirement already satisfied: pandas in c:\\users\\llopezg\\appdata\\local\\continuum\\anaconda3\\lib\\site-packages (0.23.4)\n",
      "Requirement already satisfied: numpy in c:\\users\\llopezg\\appdata\\local\\continuum\\anaconda3\\lib\\site-packages (1.15.4)\n",
      "Requirement already satisfied: datetime in c:\\users\\llopezg\\appdata\\local\\continuum\\anaconda3\\lib\\site-packages (4.3)\n",
      "Requirement already satisfied: matplotlib in c:\\users\\llopezg\\appdata\\local\\continuum\\anaconda3\\lib\\site-packages (3.0.2)\n",
      "Requirement already satisfied: statsmodels in c:\\users\\llopezg\\appdata\\local\\continuum\\anaconda3\\lib\\site-packages (0.9.0)\n",
      "Requirement already satisfied: folium in c:\\users\\llopezg\\appdata\\local\\continuum\\anaconda3\\lib\\site-packages (0.8.3)\n",
      "Requirement already satisfied: python-dateutil>=2.5.0 in c:\\users\\llopezg\\appdata\\local\\continuum\\anaconda3\\lib\\site-packages (from pandas) (2.7.5)\n",
      "Requirement already satisfied: pytz>=2011k in c:\\users\\llopezg\\appdata\\local\\continuum\\anaconda3\\lib\\site-packages (from pandas) (2018.7)\n",
      "Requirement already satisfied: zope.interface in c:\\users\\llopezg\\appdata\\local\\continuum\\anaconda3\\lib\\site-packages (from datetime) (4.6.0)\n",
      "Requirement already satisfied: cycler>=0.10 in c:\\users\\llopezg\\appdata\\local\\continuum\\anaconda3\\lib\\site-packages (from matplotlib) (0.10.0)\n",
      "Requirement already satisfied: kiwisolver>=1.0.1 in c:\\users\\llopezg\\appdata\\local\\continuum\\anaconda3\\lib\\site-packages (from matplotlib) (1.0.1)\n",
      "Requirement already satisfied: pyparsing!=2.0.4,!=2.1.2,!=2.1.6,>=2.0.1 in c:\\users\\llopezg\\appdata\\local\\continuum\\anaconda3\\lib\\site-packages (from matplotlib) (2.3.0)\n",
      "Requirement already satisfied: six in c:\\users\\llopezg\\appdata\\local\\continuum\\anaconda3\\lib\\site-packages (from folium) (1.12.0)\n",
      "Requirement already satisfied: jinja2 in c:\\users\\llopezg\\appdata\\local\\continuum\\anaconda3\\lib\\site-packages (from folium) (2.10)\n",
      "Requirement already satisfied: branca>=0.3.0 in c:\\users\\llopezg\\appdata\\local\\continuum\\anaconda3\\lib\\site-packages (from folium) (0.3.1)\n",
      "Requirement already satisfied: requests in c:\\users\\llopezg\\appdata\\local\\continuum\\anaconda3\\lib\\site-packages (from folium) (2.21.0)\n",
      "Requirement already satisfied: setuptools in c:\\users\\llopezg\\appdata\\local\\continuum\\anaconda3\\lib\\site-packages (from zope.interface->datetime) (40.6.3)\n",
      "Requirement already satisfied: MarkupSafe>=0.23 in c:\\users\\llopezg\\appdata\\local\\continuum\\anaconda3\\lib\\site-packages (from jinja2->folium) (1.1.0)\n",
      "Requirement already satisfied: urllib3<1.25,>=1.21.1 in c:\\users\\llopezg\\appdata\\local\\continuum\\anaconda3\\lib\\site-packages (from requests->folium) (1.24.1)\n",
      "Requirement already satisfied: chardet<3.1.0,>=3.0.2 in c:\\users\\llopezg\\appdata\\local\\continuum\\anaconda3\\lib\\site-packages (from requests->folium) (3.0.4)\n",
      "Requirement already satisfied: idna<2.9,>=2.5 in c:\\users\\llopezg\\appdata\\local\\continuum\\anaconda3\\lib\\site-packages (from requests->folium) (2.8)\n",
      "Requirement already satisfied: certifi>=2017.4.17 in c:\\users\\llopezg\\appdata\\local\\continuum\\anaconda3\\lib\\site-packages (from requests->folium) (2018.11.29)\n"
     ]
    }
   ],
   "source": [
    "!pip install googledrivedownloader pandas numpy datetime matplotlib statsmodels folium"
   ]
  },
  {
   "cell_type": "code",
   "execution_count": 2,
   "metadata": {},
   "outputs": [],
   "source": [
    "from google_drive_downloader import GoogleDriveDownloader as gdd"
   ]
  },
  {
   "cell_type": "markdown",
   "metadata": {},
   "source": [
    "### Step 2: downloading the files"
   ]
  },
  {
   "cell_type": "markdown",
   "metadata": {},
   "source": [
    "#### I have inserted %%timeit so you can see how long does it takes to get the files"
   ]
  },
  {
   "cell_type": "markdown",
   "metadata": {},
   "source": [
    "#### Devices location file"
   ]
  },
  {
   "cell_type": "code",
   "execution_count": 10,
   "metadata": {},
   "outputs": [
    {
     "name": "stdout",
     "output_type": "stream",
     "text": [
      "Downloading 1ADssmZazjUFXLUI5FDmIfAc8zS4Yjale into ./DevicesLocation.zip... Done.\n",
      "The slowest run took 4.41 times longer than the fastest. This could mean that an intermediate result is being cached.\n",
      "160 µs ± 92.7 µs per loop (mean ± std. dev. of 7 runs, 1 loop each)\n"
     ]
    }
   ],
   "source": [
    "%%timeit\n",
    "gdd.download_file_from_google_drive(file_id='1ADssmZazjUFXLUI5FDmIfAc8zS4Yjale',\n",
    "                                    dest_path='./DevicesLocation.zip',\n",
    "                                    unzip=False)"
   ]
  },
  {
   "cell_type": "markdown",
   "metadata": {},
   "source": [
    "#### Traffic data from 2015"
   ]
  },
  {
   "cell_type": "code",
   "execution_count": 11,
   "metadata": {},
   "outputs": [
    {
     "name": "stdout",
     "output_type": "stream",
     "text": [
      "Downloading 1Ja1KA3uK0tieqbEPRu3eDlHFbQQ_lDMf into ./DatosTrafico2015.zip... Done.\n",
      "633 µs ± 79.1 µs per loop (mean ± std. dev. of 7 runs, 1 loop each)\n"
     ]
    }
   ],
   "source": [
    "%%timeit\n",
    "gdd.download_file_from_google_drive(file_id='1Ja1KA3uK0tieqbEPRu3eDlHFbQQ_lDMf',\n",
    "                                    dest_path='./DatosTrafico2015.zip',\n",
    "                                    unzip=False)"
   ]
  },
  {
   "cell_type": "markdown",
   "metadata": {},
   "source": [
    "#### Traffic data from 2016"
   ]
  },
  {
   "cell_type": "code",
   "execution_count": 12,
   "metadata": {},
   "outputs": [
    {
     "name": "stdout",
     "output_type": "stream",
     "text": [
      "Downloading 1ZVJmQS57mzMTC2AuCTwamVS3KyVE8RQO into ./DatosTrafico2016.zip... Done.\n",
      "341 µs ± 56.3 µs per loop (mean ± std. dev. of 7 runs, 1 loop each)\n"
     ]
    }
   ],
   "source": [
    "%%timeit\n",
    "gdd.download_file_from_google_drive(file_id='1ZVJmQS57mzMTC2AuCTwamVS3KyVE8RQO',\n",
    "                                    dest_path='./DatosTrafico2016.zip',\n",
    "                                    unzip=False)"
   ]
  },
  {
   "cell_type": "markdown",
   "metadata": {},
   "source": [
    "#### Traffic data from 2017"
   ]
  },
  {
   "cell_type": "code",
   "execution_count": 13,
   "metadata": {},
   "outputs": [
    {
     "name": "stdout",
     "output_type": "stream",
     "text": [
      "Downloading 1WBmsqew0OvMlP_N2ru7lHEdrZYKBtAnb into ./DatosTrafico2017.zip... Done.\n",
      "322 µs ± 48.1 µs per loop (mean ± std. dev. of 7 runs, 1 loop each)\n"
     ]
    }
   ],
   "source": [
    "%%timeit\n",
    "gdd.download_file_from_google_drive(file_id='1WBmsqew0OvMlP_N2ru7lHEdrZYKBtAnb',\n",
    "                                    dest_path='./DatosTrafico2017.zip',\n",
    "                                    unzip=False)"
   ]
  },
  {
   "cell_type": "markdown",
   "metadata": {},
   "source": [
    "#### Traffic data from 2018"
   ]
  },
  {
   "cell_type": "code",
   "execution_count": 14,
   "metadata": {},
   "outputs": [
    {
     "name": "stdout",
     "output_type": "stream",
     "text": [
      "Downloading 1bt22NVVXnv1hDNAPM6h645XKtDN1NQIR into ./DatosTrafico2018.zip... Done.\n",
      "223 µs ± 61.5 µs per loop (mean ± std. dev. of 7 runs, 1 loop each)\n"
     ]
    }
   ],
   "source": [
    "%%timeit\n",
    "gdd.download_file_from_google_drive(file_id='1bt22NVVXnv1hDNAPM6h645XKtDN1NQIR',\n",
    "                                    dest_path='./DatosTrafico2018.zip',\n",
    "                                    unzip=False)"
   ]
  },
  {
   "cell_type": "markdown",
   "metadata": {},
   "source": [
    "#### Traffic data from 2019 (until April)"
   ]
  },
  {
   "cell_type": "code",
   "execution_count": 15,
   "metadata": {},
   "outputs": [
    {
     "name": "stdout",
     "output_type": "stream",
     "text": [
      "Downloading 1ME8AEegcnmj9se5OM-na9wrVlDSUqREg into ./DatosTrafico2019.zip... Done.\n",
      "108 µs ± 23.9 µs per loop (mean ± std. dev. of 7 runs, 1 loop each)\n"
     ]
    }
   ],
   "source": [
    "%%timeit\n",
    "gdd.download_file_from_google_drive(file_id='1ME8AEegcnmj9se5OM-na9wrVlDSUqREg',\n",
    "                                    dest_path='./DatosTrafico2019.zip',\n",
    "                                    unzip=False)"
   ]
  },
  {
   "cell_type": "markdown",
   "metadata": {},
   "source": [
    "#### Calendar file"
   ]
  },
  {
   "cell_type": "code",
   "execution_count": 20,
   "metadata": {},
   "outputs": [
    {
     "name": "stdout",
     "output_type": "stream",
     "text": [
      "82.7 µs ± 3.17 µs per loop (mean ± std. dev. of 7 runs, 10000 loops each)\n"
     ]
    }
   ],
   "source": [
    "%%timeit\n",
    "gdd.download_file_from_google_drive(file_id='1jQYgQob9eVq-fttyPjqCtgvxTUN4naxF',\n",
    "                                    dest_path='./calendario_2013-2019.csv',\n",
    "                                    unzip=False)"
   ]
  },
  {
   "cell_type": "markdown",
   "metadata": {},
   "source": [
    "#### Live traffic data"
   ]
  },
  {
   "cell_type": "code",
   "execution_count": 17,
   "metadata": {
    "scrolled": true
   },
   "outputs": [
    {
     "name": "stdout",
     "output_type": "stream",
     "text": [
      "Downloading 1Yl3-h5fGQ3eWzXZkfUFg-I4L7QvqBdTQ into ./pm.xml... Done.\n",
      "The slowest run took 4.41 times longer than the fastest. This could mean that an intermediate result is being cached.\n",
      "220 µs ± 134 µs per loop (mean ± std. dev. of 7 runs, 1 loop each)\n"
     ]
    }
   ],
   "source": [
    "%%timeit\n",
    "gdd.download_file_from_google_drive(file_id='1Yl3-h5fGQ3eWzXZkfUFg-I4L7QvqBdTQ',\n",
    "                                    dest_path='./pm.xml',\n",
    "                                    unzip=False)"
   ]
  },
  {
   "cell_type": "markdown",
   "metadata": {},
   "source": [
    "### ***data_traffic.csv it is the file with all the concatenated dataframes as a result of the Notebook 2\n",
    "#### I store since as I comment in the README, is a long and heavy process that gave me Memory Error of the kernel so just in case you jump or omit this part of the code"
   ]
  },
  {
   "cell_type": "code",
   "execution_count": 3,
   "metadata": {},
   "outputs": [
    {
     "name": "stdout",
     "output_type": "stream",
     "text": [
      "Downloading 15knJ6-M1zJDsCqz2NVkZnQ2o5ekAf71R into ./data_traffic.csv... Done.\n"
     ]
    }
   ],
   "source": [
    "gdd.download_file_from_google_drive(file_id='15knJ6-M1zJDsCqz2NVkZnQ2o5ekAf71R',\n",
    "                                    dest_path='./data_traffic.csv',\n",
    "                                    unzip=False)"
   ]
  },
  {
   "cell_type": "markdown",
   "metadata": {},
   "source": [
    "#### Move to next notebook number 1"
   ]
  }
 ],
 "metadata": {
  "kernelspec": {
   "display_name": "Python 3",
   "language": "python",
   "name": "python3"
  },
  "language_info": {
   "codemirror_mode": {
    "name": "ipython",
    "version": 3
   },
   "file_extension": ".py",
   "mimetype": "text/x-python",
   "name": "python",
   "nbconvert_exporter": "python",
   "pygments_lexer": "ipython3",
   "version": "3.7.1"
  }
 },
 "nbformat": 4,
 "nbformat_minor": 2
}
